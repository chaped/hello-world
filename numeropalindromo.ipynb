{
  "nbformat": 4,
  "nbformat_minor": 0,
  "metadata": {
    "colab": {
      "name": "Untitled3.ipynb",
      "version": "0.3.2",
      "provenance": [],
      "include_colab_link": true
    },
    "kernelspec": {
      "name": "python3",
      "display_name": "Python 3"
    }
  },
  "cells": [
    {
      "cell_type": "markdown",
      "metadata": {
        "id": "view-in-github",
        "colab_type": "text"
      },
      "source": [
        "<a href=\"https://colab.research.google.com/github/chaped/hello-world/blob/master/numeropalindromo.ipynb\" target=\"_parent\"><img src=\"https://colab.research.google.com/assets/colab-badge.svg\" alt=\"Open In Colab\"/></a>"
      ]
    },
    {
      "metadata": {
        "id": "PvjaP03cC9WH",
        "colab_type": "code",
        "colab": {
          "base_uri": "https://localhost:8080/",
          "height": 51
        },
        "outputId": "bb93e6c8-d543-432b-c06a-46358da58628"
      },
      "cell_type": "code",
      "source": [
        "def espalindromo(n):\n",
        "    num=n\n",
        "    d=0\n",
        "    rev=0\n",
        "    while n>0:\n",
        "        d=n%10\n",
        "        n=int(n/10)\n",
        "        rev=rev*10+d\n",
        "    if num==rev:\n",
        "        return True\n",
        "    else:\n",
        "        return False\n",
        "x=int(input(\"ingrese numero :\"))\n",
        "if espalindromo(x):\n",
        "    print(x,(\"es palindromo\"))\n",
        "else:\n",
        "    print(x,(\"no es palindromo\"))"
      ],
      "execution_count": 2,
      "outputs": [
        {
          "output_type": "stream",
          "text": [
            "ingrese numero :555555555\n",
            "555555555 es palindromo\n"
          ],
          "name": "stdout"
        }
      ]
    }
  ]
}