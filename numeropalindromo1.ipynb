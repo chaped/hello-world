{
  "nbformat": 4,
  "nbformat_minor": 0,
  "metadata": {
    "colab": {
      "name": "Untitled4.ipynb",
      "version": "0.3.2",
      "provenance": [],
      "include_colab_link": true
    },
    "kernelspec": {
      "name": "python3",
      "display_name": "Python 3"
    }
  },
  "cells": [
    {
      "cell_type": "markdown",
      "metadata": {
        "id": "view-in-github",
        "colab_type": "text"
      },
      "source": [
        "<a href=\"https://colab.research.google.com/github/chaped/hello-world/blob/master/numeropalindromo1.ipynb\" target=\"_parent\"><img src=\"https://colab.research.google.com/assets/colab-badge.svg\" alt=\"Open In Colab\"/></a>"
      ]
    },
    {
      "metadata": {
        "id": "vS4DiAxWN_oZ",
        "colab_type": "code",
        "colab": {}
      },
      "cell_type": "code",
      "source": [
        "def espalindromo(n):\n",
        "    num=n\n",
        "    d=0\n",
        "    rev=0\n",
        "    while n>0:\n",
        "        d=n%10\n",
        "        n=int(n/10)\n",
        "        rev=rev*10+d\n",
        "    if num==rev:\n",
        "        return True\n",
        "    else:\n",
        "        return False\n",
        "x=int(input(\"ingrese numero :\"))\n",
        "if espalindromo(x):\n",
        "    print(x,(\"es palindromo\"))\n",
        "else:\n",
        "    print(x,(\"no es palindromo\"))"
      ],
      "execution_count": 0,
      "outputs": []
    }
  ]
}